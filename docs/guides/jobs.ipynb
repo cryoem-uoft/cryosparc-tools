{
 "cells": [
  {
   "cell_type": "markdown",
   "metadata": {},
   "source": [
    "# Working with Jobs\n",
    "\n",
    "Use this guide as a reference to programmatically build, run and inspect CryoSPARC jobs with cryosparc-tools. The following capabilities are covered:\n",
    "\n",
    "- Creating jobs\n",
    "- Setting job parameters\n",
    "- Connecting job inputs and outputs\n",
    "- Queuing and running jobs\n",
    "- Inspecting job outputs, files and assets\n",
    "\n",
    "```{note}\n",
    "If you have never worked with CryoSPARC jobs and results before, first read the [_Creating and Running Jobs_ page](https://guide.cryosparc.com/application-guide-v4.0+/creating-and-running-jobs) in the CryoSPARC Guide.\n",
    "```\n",
    "\n",
    "To get started, first initialize the CryoSPARC client from the `cryosparc.tools` module."
   ]
  },
  {
   "cell_type": "code",
   "execution_count": 1,
   "metadata": {},
   "outputs": [
    {
     "name": "stdout",
     "output_type": "stream",
     "text": [
      "Connection succeeded to CryoSPARC command_core at http://cryoem0.sbi:40002\n",
      "Connection succeeded to CryoSPARC command_vis at http://cryoem0.sbi:40003\n",
      "Connection succeeded to CryoSPARC command_rtp at http://cryoem0.sbi:40005\n"
     ]
    }
   ],
   "source": [
    "from cryosparc.tools import CryoSPARC\n",
    "\n",
    "cs = CryoSPARC(host=\"cryoem0.sbi\", base_port=40000)\n",
    "assert cs.test_connection()"
   ]
  },
  {
   "cell_type": "markdown",
   "metadata": {},
   "source": [
    "## Creating Jobs\n",
    "\n",
    "In CryoSPARC, cryo-EM data is processed by **Jobs** such as Import Movies and Ab-Initio Reconstruction. Jobs can import data from disk, process it and output **Results** that may be connected to other jobs.\n",
    "\n",
    "Each job has an associated machine-readable `type` key that must be specified to\n",
    "create it. Show a table of jobs types available to create with the [`CryoSPARC.print_job_types()`](cryosparc.tools.CryoSPARC.print_job_types) function. Optionally specify a `section` argument to only show job types from a specific section.\n",
    "\n",
    "For example, to list available extraction and refinement job types:\n"
   ]
  },
  {
   "cell_type": "code",
   "execution_count": 2,
   "metadata": {},
   "outputs": [
    {
     "name": "stdout",
     "output_type": "stream",
     "text": [
      "Section    | Job                              | Title                            \n",
      "=================================================================================\n",
      "extraction | extract_micrographs_multi        | Extract From Micrographs (GPU)   \n",
      "           | extract_micrographs_cpu_parallel | Extract From Micrographs (CPU)   \n",
      "           | downsample_particles             | Downsample Particles             \n",
      "           | restack_particles                | Restack Particles                \n",
      "refinement | homo_refine_new                  | Homogeneous Refinement           \n",
      "           | hetero_refine                    | Heterogeneous Refinement         \n",
      "           | nonuniform_refine_new            | Non-uniform Refinement           \n",
      "           | homo_reconstruct                 | Homogeneous Reconstruction Only  \n",
      "           | hetero_reconstruct               | Heterogeneous Reconstruction Only\n"
     ]
    }
   ],
   "source": [
    "cs.print_job_types(section=[\"extraction\", \"refinement\"])"
   ]
  },
  {
   "cell_type": "markdown",
   "metadata": {},
   "source": [
    "This information is also available as a Python list with [`job.get_job_specs()`](cryosparc.tools.CryoSPARC.get_job_specs).\n",
    "\n",
    "Use the [`CryoSPARC.find_project()`](cryosparc.tools.CryoSPARC.find_project) function to load a project to work in:"
   ]
  },
  {
   "cell_type": "code",
   "execution_count": 3,
   "metadata": {},
   "outputs": [],
   "source": [
    "project = cs.find_project(\"P251\")"
   ]
  },
  {
   "cell_type": "markdown",
   "metadata": {},
   "source": [
    "Create a new job with the [`project.create_job()`](cryosparc.project.Project.create_job) function. Specify a workspace UID and a job type (such as one of the types listed above):"
   ]
  },
  {
   "cell_type": "code",
   "execution_count": 4,
   "metadata": {},
   "outputs": [
    {
     "data": {
      "text/plain": [
       "('J96', 'building')"
      ]
     },
     "execution_count": 4,
     "metadata": {},
     "output_type": "execute_result"
    }
   ],
   "source": [
    "job = project.create_job(\"W1\", \"extract_micrographs_cpu_parallel\")\n",
    "job.uid, job.status"
   ]
  },
  {
   "cell_type": "markdown",
   "metadata": {},
   "source": [
    "Note the UID of the new job in the given workspace.\n",
    "\n",
    "You may also use [`project.find_job()`](cryosparc.project.Project.find_job) to load a job that was manually-created in the CryoSPARC interface:"
   ]
  },
  {
   "cell_type": "code",
   "execution_count": 8,
   "metadata": {},
   "outputs": [
    {
     "data": {
      "text/plain": [
       "('J96', 'extract_micrographs_cpu_parallel', 'building')"
      ]
     },
     "execution_count": 8,
     "metadata": {},
     "output_type": "execute_result"
    }
   ],
   "source": [
    "job = project.find_job(\"J96\")\n",
    "job.uid, job.type, job.status"
   ]
  },
  {
   "cell_type": "markdown",
   "metadata": {},
   "source": [
    "## Setting Parameters\n",
    "\n",
    "A newly-created job has status `building`. You may change parameters and connect outputs while a job is in this mode.\n",
    "\n",
    "Use [`job.print_param_spec()`](cryosparc.job.Job.print_param_spec) to show a table of available parameters. The first column lists the machine-readable parameter name that may be used to assign this value:\n"
   ]
  },
  {
   "cell_type": "code",
   "execution_count": 9,
   "metadata": {},
   "outputs": [
    {
     "name": "stdout",
     "output_type": "stream",
     "text": [
      "Param                 | Title                                  | Type    | Default\n",
      "==================================================================================\n",
      "bin_size_pix          | Fourier-crop to box size (pix)         | number  | None   \n",
      "bin_size_pix_small    | Second (small) F-crop box size (pix)   | number  | None   \n",
      "box_size_pix          | Extraction box size (pix)              | number  | 256    \n",
      "compute_num_cores     | Number of CPU cores                    | number  | 4      \n",
      "flip_x                | Flip mic. in x before extract?         | boolean | False  \n",
      "flip_y                | Flip mic. in y before extract?         | boolean | False  \n",
      "force_reextract_CTF   | Force re-extract CTFs from micrographs | boolean | False  \n",
      "num_extract           | Number of mics to extract              | number  | None   \n",
      "output_f16            | Save results in 16-bit floating point  | boolean | False  \n",
      "recenter_using_shifts | Recenter using aligned shifts          | boolean | True   \n",
      "scale_const_override  | Scale constant (override)              | number  | None   \n"
     ]
    }
   ],
   "source": [
    "job.print_param_spec()"
   ]
  },
  {
   "cell_type": "markdown",
   "metadata": {},
   "source": [
    "This information is also available as a Python dictionary from [`job.doc.params_base`](cryosparc.spec.JobDocument.params_base).\n",
    "\n",
    "Based on the title, you may use the CryoSPARC web interface to browse detailed descriptions on these parameters.\n",
    "\n",
    "Use [`job.set_param()`](cryosparc.job.Job.set_param) to update a parameter. Returns True if the parameter was successfully updated:"
   ]
  },
  {
   "cell_type": "code",
   "execution_count": 10,
   "metadata": {},
   "outputs": [
    {
     "data": {
      "text/plain": [
       "True"
      ]
     },
     "execution_count": 10,
     "metadata": {},
     "output_type": "execute_result"
    }
   ],
   "source": [
    "job.set_param(\"box_size_pix\", 448)\n",
    "job.set_param(\"recenter_using_shifts\", False)"
   ]
  },
  {
   "cell_type": "markdown",
   "metadata": {},
   "source": [
    "## Connecting Inputs and Outputs\n",
    "\n",
    "Most jobs also require inputs:\n",
    "- An **Input** is a connection to another parent job's cryo-EM data Output\n",
    "  - e.g., a list of micrographs, picked particles or a reconstructed volume\n",
    "- An **Output** is a group of low-level results produced when a job finishes running\n",
    "- Each **Result** includes various data and metadata about its parent output\n",
    "  - e.g., motion correction information, computed CTF or particle blobs\n",
    "- Inputs have **Slots** that each correspond to an output result\n",
    "\n",
    "In the CryoSPARC web interface, you may inspect the available inputs and outputs from a job's \"Inputs and Parameters\" tab and \"Outputs\" tab, respectively.\n",
    "\n",
    "With cryosparc-tools, use [`job.print_input_spec()`](cryosparc.job.Job.print_input_spec) to show a table of available input requirements for a given job."
   ]
  },
  {
   "cell_type": "code",
   "execution_count": 11,
   "metadata": {},
   "outputs": [
    {
     "name": "stdout",
     "output_type": "stream",
     "text": [
      "Input       | Title       | Type     | Required? | Input Slots     | Slot Types      | Slot Required?\n",
      "=====================================================================================================\n",
      "micrographs | Micrographs | exposure | ✓ (1+)    | micrograph_blob | micrograph_blob | ✓             \n",
      "            |             |          |           | background_blob | stat_blob       | ✕             \n",
      "            |             |          |           | mscope_params   | mscope_params   | ✓             \n",
      "            |             |          |           | ctf             | ctf             | ✕             \n",
      "particles   | Particles   | particle | ✕ (0+)    | location        | location        | ✓             \n",
      "            |             |          |           | alignments2D    | alignments2D    | ✕             \n",
      "            |             |          |           | alignments3D    | alignments3D    | ✕             \n"
     ]
    }
   ],
   "source": [
    "job.print_input_spec()"
   ]
  },
  {
   "cell_type": "markdown",
   "metadata": {},
   "source": [
    "This information is also available as a Python list from [`job.doc.input_slot_groups`](cryosparc.spec.JobDocument.input_slot_groups).\n",
    "\n",
    "This example extraction job requires inputs `micrographs` and `particles`. These must be connected from one or more parent jobs that produce the same types (`exposure` and `particle`, respectively) as outputs, e.g., an Inspect Particle Picks job. Note also the required low-level slot connections:\n",
    "\n",
    "- Requires one or more connections from a job output with type `exposure`, i.e., CTF-corrected micrographs\n",
    "  - Must include low-level slots `micrograph_blob` and `mscope_params`\n",
    "  - May include optional low-level slots `stat_blob` and `ctf`\n",
    "- Requires zero or more connections from a job output with type `particle`, i.e., particle pick locations\n",
    "  - Must include low-level slot `location`\n",
    "  - May include optional low-level slots `alignments2D` and `alignments3D`\n",
    "\n",
    "\n",
    "The job cannot run if the required low-level slots are not connected. If provided, optional low-level slots may be used by the job for additinal computation and results. See the [main CryoSPARC Guide](https://guide.cryosparc.com/processing-data/all-job-types-in-cryosparc) for details about how inputs and slots are used by specific job types.\n",
    "\n",
    "Load the job or jobs which will provide the required inputs:"
   ]
  },
  {
   "cell_type": "code",
   "execution_count": 13,
   "metadata": {},
   "outputs": [
    {
     "data": {
      "text/plain": [
       "('inspect_picks_v2', 'completed')"
      ]
     },
     "execution_count": 13,
     "metadata": {},
     "output_type": "execute_result"
    }
   ],
   "source": [
    "parent_job = project.find_job(\"J13\")\n",
    "parent_job.type, parent_job.status"
   ]
  },
  {
   "cell_type": "markdown",
   "metadata": {},
   "source": [
    "Inspect its outputs with [`job.print_output_spec()`](cryosparc.job.Job.print_output_spec):"
   ]
  },
  {
   "cell_type": "code",
   "execution_count": 14,
   "metadata": {},
   "outputs": [
    {
     "name": "stdout",
     "output_type": "stream",
     "text": [
      "Output      | Title                | Type     | Result Slots                 | Result Types   \n",
      "==============================================================================================\n",
      "micrographs | Micrographs accepted | exposure | micrograph_blob              | micrograph_blob\n",
      "            |                      |          | ctf                          | ctf            \n",
      "            |                      |          | mscope_params                | mscope_params  \n",
      "            |                      |          | background_blob              | stat_blob      \n",
      "            |                      |          | micrograph_thumbnail_blob_1x | thumbnail_blob \n",
      "            |                      |          | micrograph_thumbnail_blob_2x | thumbnail_blob \n",
      "            |                      |          | ctf_stats                    | ctf_stats      \n",
      "            |                      |          | micrograph_blob_non_dw       | micrograph_blob\n",
      "            |                      |          | rigid_motion                 | motion         \n",
      "            |                      |          | spline_motion                | motion         \n",
      "            |                      |          | movie_blob                   | movie_blob     \n",
      "            |                      |          | gain_ref_blob                | gain_ref_blob  \n",
      "particles   | Particles accepted   | particle | location                     | location       \n",
      "            |                      |          | pick_stats                   | pick_stats     \n",
      "            |                      |          | ctf                          | ctf            \n"
     ]
    }
   ],
   "source": [
    "parent_job.print_output_spec()"
   ]
  },
  {
   "cell_type": "markdown",
   "metadata": {},
   "source": [
    "This information is also available as a Python list from [`job.doc.output_result_groups`](cryosparc.spec.JobDocument.output_result_groups).\n",
    "\n",
    "The types of the two outputs `micrographs` and `particles` match the types of the two required inputs and also have all the required slots. Connect them to the parent job with the [`job.connect()`](cryosparc.job.Job.connect) function:"
   ]
  },
  {
   "cell_type": "code",
   "execution_count": 15,
   "metadata": {},
   "outputs": [
    {
     "data": {
      "text/plain": [
       "True"
      ]
     },
     "execution_count": 15,
     "metadata": {},
     "output_type": "execute_result"
    }
   ],
   "source": [
    "job.connect(\n",
    "    target_input=\"micrographs\",\n",
    "    source_job_uid=parent_job.uid,\n",
    "    source_output=\"micrographs\",\n",
    ")\n",
    "job.connect(\n",
    "    target_input=\"particles\",\n",
    "    source_job_uid=parent_job.uid,\n",
    "    source_output=\"particles\",\n",
    ")"
   ]
  },
  {
   "cell_type": "markdown",
   "metadata": {},
   "source": [
    "```{note}\n",
    "The input and output names do not always match, as in this case. e.g., if the parent output is named `micrographs_accepted`, specify `source_output=\"micrographs_accepted\"`.\n",
    "```\n",
    "\n",
    "## Queuing and Running\n",
    "\n",
    "Once parameters are set and required inputs are connected, the job is ready to run. Use the [`job.queue()`](cryosparc.job.Job.queue) function to send the job to the CryoSPARC scheduler for execution on a given compute node or cluster."
   ]
  },
  {
   "cell_type": "code",
   "execution_count": 16,
   "metadata": {},
   "outputs": [],
   "source": [
    "job.queue(lane=\"cryoem5\")"
   ]
  },
  {
   "cell_type": "markdown",
   "metadata": {},
   "source": [
    "Omit the the `lane` argument to run directly on the current workstation or master. If required, wait until the job finishes with the [`job.wait_for_done()`](cryosparc.job.Job.wait_for_done) function:"
   ]
  },
  {
   "cell_type": "code",
   "execution_count": 17,
   "metadata": {},
   "outputs": [
    {
     "data": {
      "text/plain": [
       "'completed'"
      ]
     },
     "execution_count": 17,
     "metadata": {},
     "output_type": "execute_result"
    }
   ],
   "source": [
    "job.wait_for_done(error_on_incomplete=True)"
   ]
  },
  {
   "cell_type": "markdown",
   "metadata": {},
   "source": [
    "The `error_on_incomplete=True` flag causes a Python exception if the job fails or is killed before completing successfully.\n",
    "\n",
    "A running job may be killed with [`job.kill()`](cryosparc.job.Job.kill). A queued, completed, killed or failed job may be cleared with [`job.clear()`](cryosparc.job.Job.clear). After clearing, the job goes back to `building` status.\n",
    "\n",
    "## Inspecting Results\n",
    "\n",
    "While running, jobs produce various kinds of output files and associated metadata. These include:\n",
    "\n",
    "- Files such as motion-corrected micrographs, extracted particles, reconstructed volumes, etc.\n",
    "- `.cs` file datasets with computed metadata\n",
    "- Image assets and plots for display in the web interface\n",
    "\n",
    "Use the [`job.list_files()`](cryosparc.job.Job.list_files) function to get a list of files in the job's directory:"
   ]
  },
  {
   "cell_type": "code",
   "execution_count": 18,
   "metadata": {},
   "outputs": [
    {
     "data": {
      "text/plain": [
       "['J96_micrographs.csg',\n",
       " 'J96_particles.csg',\n",
       " 'J96_passthrough_micrographs.cs',\n",
       " 'J96_passthrough_micrographs_incomplete.cs',\n",
       " 'J96_passthrough_particles.cs',\n",
       " 'events.bson',\n",
       " 'extract',\n",
       " 'extracted_particles.cs',\n",
       " 'gridfs_data',\n",
       " 'incomplete_micrographs.cs',\n",
       " 'job.json',\n",
       " 'job.log',\n",
       " 'picked_micrographs.cs']"
      ]
     },
     "execution_count": 18,
     "metadata": {},
     "output_type": "execute_result"
    }
   ],
   "source": [
    "job.list_files()"
   ]
  },
  {
   "cell_type": "markdown",
   "metadata": {},
   "source": [
    "Specify a subfolder to show files in a specific sub directory such as `extract`:"
   ]
  },
  {
   "cell_type": "code",
   "execution_count": 19,
   "metadata": {},
   "outputs": [
    {
     "data": {
      "text/plain": [
       "'extract/002297077740060436393_14sep05c_c_00003gr_00014sq_00009hl_00004es.frames_patch_aligned_doseweighted_particles.mrc'"
      ]
     },
     "execution_count": 19,
     "metadata": {},
     "output_type": "execute_result"
    }
   ],
   "source": [
    "extracted = job.list_files(\"extract\")\n",
    "extracted[0]"
   ]
  },
  {
   "cell_type": "markdown",
   "metadata": {},
   "source": [
    "Any file in a job directory may be downloaded for inspection with [`job.download_file()`](cryosparc.job.Job.download_file):"
   ]
  },
  {
   "cell_type": "code",
   "execution_count": 20,
   "metadata": {},
   "outputs": [
    {
     "name": "stdout",
     "output_type": "stream",
     "text": [
      "Downloaded 496141312 bytes\n"
     ]
    }
   ],
   "source": [
    "job.download_file(extracted[0], target=\"sample.mrc\")\n",
    "with open(\"sample.mrc\", \"rb\") as f:\n",
    "    print(f\"Downloaded {len(f.read())} bytes\")"
   ]
  },
  {
   "cell_type": "markdown",
   "metadata": {},
   "source": [
    "`target` may be a file path or writeble file handle. You may also use [`job.download_dataset()`](cryosparc.job.Job.download_dataset) and [`job.load_output()`](cryosparc.job.Job.load_output) to download cs files directly into `Dataset` objects (details in next section), or [`job.download_mrc()`](cryosparc.job.Job.download_mrc) to download .mrc files as Numpy arrays:"
   ]
  },
  {
   "cell_type": "code",
   "execution_count": 21,
   "metadata": {},
   "outputs": [
    {
     "name": "stdout",
     "output_type": "stream",
     "text": [
      "Downloaded 496140288 byte particle stack with 618 particles\n"
     ]
    }
   ],
   "source": [
    "header, data = job.download_mrc(extracted[0])\n",
    "print(f\"Downloaded {data.nbytes} byte particle stack with {header.nz} particles\")"
   ]
  },
  {
   "cell_type": "markdown",
   "metadata": {},
   "source": [
    "### Datasets\n",
    "\n",
    "All cryo-EM data processed in CryoSPARC have associated metadata and results that must be passed between jobs. CryoSPARC uses `.cs` Dataset files to do this.\n",
    "\n",
    "A Dataset is a table where each row represents a unique cryo-EM data entity such as an exposure, particle, template, volume, etc. Each column is a data field associated with that entity such as path on disk, pixel size, dimensions, X/Y position, etc.\n",
    "\n",
    "`.cs` files are binary-encodings of this tabular data. \n",
    "\n",
    "Use [`job.download_dataset()`](cryosparc.job.Job.download_dataset) to load a `.cs` file from the job directory. Use pandas to inspect the downloaded dataset in Jupyter or ipython:"
   ]
  },
  {
   "cell_type": "code",
   "execution_count": 25,
   "metadata": {},
   "outputs": [
    {
     "data": {
      "text/html": [
       "<div>\n",
       "<style scoped>\n",
       "    .dataframe tbody tr th:only-of-type {\n",
       "        vertical-align: middle;\n",
       "    }\n",
       "\n",
       "    .dataframe tbody tr th {\n",
       "        vertical-align: top;\n",
       "    }\n",
       "\n",
       "    .dataframe thead th {\n",
       "        text-align: right;\n",
       "    }\n",
       "</style>\n",
       "<table border=\"1\" class=\"dataframe\">\n",
       "  <thead>\n",
       "    <tr style=\"text-align: right;\">\n",
       "      <th></th>\n",
       "      <th>blob/idx</th>\n",
       "      <th>blob/import_sig</th>\n",
       "      <th>blob/path</th>\n",
       "      <th>blob/psize_A</th>\n",
       "      <th>blob/shape</th>\n",
       "      <th>blob/sign</th>\n",
       "      <th>location/center_x_frac</th>\n",
       "      <th>location/center_y_frac</th>\n",
       "      <th>location/exp_group_id</th>\n",
       "      <th>location/micrograph_path</th>\n",
       "      <th>location/micrograph_psize_A</th>\n",
       "      <th>location/micrograph_shape</th>\n",
       "      <th>location/micrograph_uid</th>\n",
       "      <th>uid</th>\n",
       "    </tr>\n",
       "  </thead>\n",
       "  <tbody>\n",
       "    <tr>\n",
       "      <th>0</th>\n",
       "      <td>0</td>\n",
       "      <td>0</td>\n",
       "      <td>J96/extract/009270517818331954156_14sep05c_000...</td>\n",
       "      <td>0.6575</td>\n",
       "      <td>[448, 448]</td>\n",
       "      <td>-1.0</td>\n",
       "      <td>0.236207</td>\n",
       "      <td>0.701667</td>\n",
       "      <td>0</td>\n",
       "      <td>J2/motioncorrected/009270517818331954156_14sep...</td>\n",
       "      <td>0.0</td>\n",
       "      <td>[7676, 7420]</td>\n",
       "      <td>9270517818331954156</td>\n",
       "      <td>5182375780654809529</td>\n",
       "    </tr>\n",
       "    <tr>\n",
       "      <th>1</th>\n",
       "      <td>1</td>\n",
       "      <td>0</td>\n",
       "      <td>J96/extract/009270517818331954156_14sep05c_000...</td>\n",
       "      <td>0.6575</td>\n",
       "      <td>[448, 448]</td>\n",
       "      <td>-1.0</td>\n",
       "      <td>0.934483</td>\n",
       "      <td>0.753333</td>\n",
       "      <td>0</td>\n",
       "      <td>J2/motioncorrected/009270517818331954156_14sep...</td>\n",
       "      <td>0.0</td>\n",
       "      <td>[7676, 7420]</td>\n",
       "      <td>9270517818331954156</td>\n",
       "      <td>12660056651751289214</td>\n",
       "    </tr>\n",
       "    <tr>\n",
       "      <th>2</th>\n",
       "      <td>2</td>\n",
       "      <td>0</td>\n",
       "      <td>J96/extract/009270517818331954156_14sep05c_000...</td>\n",
       "      <td>0.6575</td>\n",
       "      <td>[448, 448]</td>\n",
       "      <td>-1.0</td>\n",
       "      <td>0.627586</td>\n",
       "      <td>0.163333</td>\n",
       "      <td>0</td>\n",
       "      <td>J2/motioncorrected/009270517818331954156_14sep...</td>\n",
       "      <td>0.0</td>\n",
       "      <td>[7676, 7420]</td>\n",
       "      <td>9270517818331954156</td>\n",
       "      <td>17971771557537199412</td>\n",
       "    </tr>\n",
       "    <tr>\n",
       "      <th>3</th>\n",
       "      <td>3</td>\n",
       "      <td>0</td>\n",
       "      <td>J96/extract/009270517818331954156_14sep05c_000...</td>\n",
       "      <td>0.6575</td>\n",
       "      <td>[448, 448]</td>\n",
       "      <td>-1.0</td>\n",
       "      <td>0.413793</td>\n",
       "      <td>0.448333</td>\n",
       "      <td>0</td>\n",
       "      <td>J2/motioncorrected/009270517818331954156_14sep...</td>\n",
       "      <td>0.0</td>\n",
       "      <td>[7676, 7420]</td>\n",
       "      <td>9270517818331954156</td>\n",
       "      <td>17954957875627625872</td>\n",
       "    </tr>\n",
       "    <tr>\n",
       "      <th>4</th>\n",
       "      <td>4</td>\n",
       "      <td>0</td>\n",
       "      <td>J96/extract/009270517818331954156_14sep05c_000...</td>\n",
       "      <td>0.6575</td>\n",
       "      <td>[448, 448]</td>\n",
       "      <td>-1.0</td>\n",
       "      <td>0.441379</td>\n",
       "      <td>0.311667</td>\n",
       "      <td>0</td>\n",
       "      <td>J2/motioncorrected/009270517818331954156_14sep...</td>\n",
       "      <td>0.0</td>\n",
       "      <td>[7676, 7420]</td>\n",
       "      <td>9270517818331954156</td>\n",
       "      <td>5996321661655483102</td>\n",
       "    </tr>\n",
       "    <tr>\n",
       "      <th>...</th>\n",
       "      <td>...</td>\n",
       "      <td>...</td>\n",
       "      <td>...</td>\n",
       "      <td>...</td>\n",
       "      <td>...</td>\n",
       "      <td>...</td>\n",
       "      <td>...</td>\n",
       "      <td>...</td>\n",
       "      <td>...</td>\n",
       "      <td>...</td>\n",
       "      <td>...</td>\n",
       "      <td>...</td>\n",
       "      <td>...</td>\n",
       "      <td>...</td>\n",
       "    </tr>\n",
       "    <tr>\n",
       "      <th>12225</th>\n",
       "      <td>624</td>\n",
       "      <td>0</td>\n",
       "      <td>J96/extract/011310893595949852984_14sep05c_c_0...</td>\n",
       "      <td>0.6575</td>\n",
       "      <td>[448, 448]</td>\n",
       "      <td>-1.0</td>\n",
       "      <td>0.951724</td>\n",
       "      <td>0.646667</td>\n",
       "      <td>0</td>\n",
       "      <td>J2/motioncorrected/011310893595949852984_14sep...</td>\n",
       "      <td>0.0</td>\n",
       "      <td>[7676, 7420]</td>\n",
       "      <td>11310893595949852984</td>\n",
       "      <td>13269417710913639089</td>\n",
       "    </tr>\n",
       "    <tr>\n",
       "      <th>12226</th>\n",
       "      <td>625</td>\n",
       "      <td>0</td>\n",
       "      <td>J96/extract/011310893595949852984_14sep05c_c_0...</td>\n",
       "      <td>0.6575</td>\n",
       "      <td>[448, 448]</td>\n",
       "      <td>-1.0</td>\n",
       "      <td>0.439655</td>\n",
       "      <td>0.131667</td>\n",
       "      <td>0</td>\n",
       "      <td>J2/motioncorrected/011310893595949852984_14sep...</td>\n",
       "      <td>0.0</td>\n",
       "      <td>[7676, 7420]</td>\n",
       "      <td>11310893595949852984</td>\n",
       "      <td>12819948907579588581</td>\n",
       "    </tr>\n",
       "    <tr>\n",
       "      <th>12227</th>\n",
       "      <td>626</td>\n",
       "      <td>0</td>\n",
       "      <td>J96/extract/011310893595949852984_14sep05c_c_0...</td>\n",
       "      <td>0.6575</td>\n",
       "      <td>[448, 448]</td>\n",
       "      <td>-1.0</td>\n",
       "      <td>0.627586</td>\n",
       "      <td>0.196667</td>\n",
       "      <td>0</td>\n",
       "      <td>J2/motioncorrected/011310893595949852984_14sep...</td>\n",
       "      <td>0.0</td>\n",
       "      <td>[7676, 7420]</td>\n",
       "      <td>11310893595949852984</td>\n",
       "      <td>4627702747760153532</td>\n",
       "    </tr>\n",
       "    <tr>\n",
       "      <th>12228</th>\n",
       "      <td>627</td>\n",
       "      <td>0</td>\n",
       "      <td>J96/extract/011310893595949852984_14sep05c_c_0...</td>\n",
       "      <td>0.6575</td>\n",
       "      <td>[448, 448]</td>\n",
       "      <td>-1.0</td>\n",
       "      <td>0.551724</td>\n",
       "      <td>0.155000</td>\n",
       "      <td>0</td>\n",
       "      <td>J2/motioncorrected/011310893595949852984_14sep...</td>\n",
       "      <td>0.0</td>\n",
       "      <td>[7676, 7420]</td>\n",
       "      <td>11310893595949852984</td>\n",
       "      <td>13411574058928503699</td>\n",
       "    </tr>\n",
       "    <tr>\n",
       "      <th>12229</th>\n",
       "      <td>628</td>\n",
       "      <td>0</td>\n",
       "      <td>J96/extract/011310893595949852984_14sep05c_c_0...</td>\n",
       "      <td>0.6575</td>\n",
       "      <td>[448, 448]</td>\n",
       "      <td>-1.0</td>\n",
       "      <td>0.968966</td>\n",
       "      <td>0.325000</td>\n",
       "      <td>0</td>\n",
       "      <td>J2/motioncorrected/011310893595949852984_14sep...</td>\n",
       "      <td>0.0</td>\n",
       "      <td>[7676, 7420]</td>\n",
       "      <td>11310893595949852984</td>\n",
       "      <td>510935515943909986</td>\n",
       "    </tr>\n",
       "  </tbody>\n",
       "</table>\n",
       "<p>12230 rows × 14 columns</p>\n",
       "</div>"
      ],
      "text/plain": [
       "       blob/idx  blob/import_sig  \\\n",
       "0             0                0   \n",
       "1             1                0   \n",
       "2             2                0   \n",
       "3             3                0   \n",
       "4             4                0   \n",
       "...         ...              ...   \n",
       "12225       624                0   \n",
       "12226       625                0   \n",
       "12227       626                0   \n",
       "12228       627                0   \n",
       "12229       628                0   \n",
       "\n",
       "                                               blob/path  blob/psize_A  \\\n",
       "0      J96/extract/009270517818331954156_14sep05c_000...        0.6575   \n",
       "1      J96/extract/009270517818331954156_14sep05c_000...        0.6575   \n",
       "2      J96/extract/009270517818331954156_14sep05c_000...        0.6575   \n",
       "3      J96/extract/009270517818331954156_14sep05c_000...        0.6575   \n",
       "4      J96/extract/009270517818331954156_14sep05c_000...        0.6575   \n",
       "...                                                  ...           ...   \n",
       "12225  J96/extract/011310893595949852984_14sep05c_c_0...        0.6575   \n",
       "12226  J96/extract/011310893595949852984_14sep05c_c_0...        0.6575   \n",
       "12227  J96/extract/011310893595949852984_14sep05c_c_0...        0.6575   \n",
       "12228  J96/extract/011310893595949852984_14sep05c_c_0...        0.6575   \n",
       "12229  J96/extract/011310893595949852984_14sep05c_c_0...        0.6575   \n",
       "\n",
       "       blob/shape  blob/sign  location/center_x_frac  location/center_y_frac  \\\n",
       "0      [448, 448]       -1.0                0.236207                0.701667   \n",
       "1      [448, 448]       -1.0                0.934483                0.753333   \n",
       "2      [448, 448]       -1.0                0.627586                0.163333   \n",
       "3      [448, 448]       -1.0                0.413793                0.448333   \n",
       "4      [448, 448]       -1.0                0.441379                0.311667   \n",
       "...           ...        ...                     ...                     ...   \n",
       "12225  [448, 448]       -1.0                0.951724                0.646667   \n",
       "12226  [448, 448]       -1.0                0.439655                0.131667   \n",
       "12227  [448, 448]       -1.0                0.627586                0.196667   \n",
       "12228  [448, 448]       -1.0                0.551724                0.155000   \n",
       "12229  [448, 448]       -1.0                0.968966                0.325000   \n",
       "\n",
       "       location/exp_group_id  \\\n",
       "0                          0   \n",
       "1                          0   \n",
       "2                          0   \n",
       "3                          0   \n",
       "4                          0   \n",
       "...                      ...   \n",
       "12225                      0   \n",
       "12226                      0   \n",
       "12227                      0   \n",
       "12228                      0   \n",
       "12229                      0   \n",
       "\n",
       "                                location/micrograph_path  \\\n",
       "0      J2/motioncorrected/009270517818331954156_14sep...   \n",
       "1      J2/motioncorrected/009270517818331954156_14sep...   \n",
       "2      J2/motioncorrected/009270517818331954156_14sep...   \n",
       "3      J2/motioncorrected/009270517818331954156_14sep...   \n",
       "4      J2/motioncorrected/009270517818331954156_14sep...   \n",
       "...                                                  ...   \n",
       "12225  J2/motioncorrected/011310893595949852984_14sep...   \n",
       "12226  J2/motioncorrected/011310893595949852984_14sep...   \n",
       "12227  J2/motioncorrected/011310893595949852984_14sep...   \n",
       "12228  J2/motioncorrected/011310893595949852984_14sep...   \n",
       "12229  J2/motioncorrected/011310893595949852984_14sep...   \n",
       "\n",
       "       location/micrograph_psize_A location/micrograph_shape  \\\n",
       "0                              0.0              [7676, 7420]   \n",
       "1                              0.0              [7676, 7420]   \n",
       "2                              0.0              [7676, 7420]   \n",
       "3                              0.0              [7676, 7420]   \n",
       "4                              0.0              [7676, 7420]   \n",
       "...                            ...                       ...   \n",
       "12225                          0.0              [7676, 7420]   \n",
       "12226                          0.0              [7676, 7420]   \n",
       "12227                          0.0              [7676, 7420]   \n",
       "12228                          0.0              [7676, 7420]   \n",
       "12229                          0.0              [7676, 7420]   \n",
       "\n",
       "       location/micrograph_uid                   uid  \n",
       "0          9270517818331954156   5182375780654809529  \n",
       "1          9270517818331954156  12660056651751289214  \n",
       "2          9270517818331954156  17971771557537199412  \n",
       "3          9270517818331954156  17954957875627625872  \n",
       "4          9270517818331954156   5996321661655483102  \n",
       "...                        ...                   ...  \n",
       "12225     11310893595949852984  13269417710913639089  \n",
       "12226     11310893595949852984  12819948907579588581  \n",
       "12227     11310893595949852984   4627702747760153532  \n",
       "12228     11310893595949852984  13411574058928503699  \n",
       "12229     11310893595949852984    510935515943909986  \n",
       "\n",
       "[12230 rows x 14 columns]"
      ]
     },
     "execution_count": 25,
     "metadata": {},
     "output_type": "execute_result"
    }
   ],
   "source": [
    "import pandas as pd\n",
    "\n",
    "particles = job.download_dataset(\"extracted_particles.cs\")\n",
    "pd.DataFrame(particles.rows())"
   ]
  },
  {
   "cell_type": "markdown",
   "metadata": {},
   "source": [
    "Each column is prefixed has format `{slot}/{field}`, e.g., `ctf/amp_contrast` or `blob/path`. An alternative definition for a low-level result in CryoSPARC is all the fields in a result dataset with the same prefix.\n",
    "\n",
    "`uid` is a special numeric field which CryoSPARC uses to uniquely identify, join and de-duplicate metadata in input datasets.\n",
    "\n",
    "Job output datasets are generally split up into two files:\n",
    "\n",
    "1. The main result dataset, which includes new data created by this job\n",
    "2. The passthrough dataset, which includes data inherited from the input dataset (`.cs` files with \"passthrough\" in the file name)\n",
    "\n",
    "Use the [`job.load_output()`](cryosparc.job.Job.load_output) function, which combines these two datasets and allows filtering for specific result slots. This provides a more convenient interface than `job.download_dataset()`:"
   ]
  },
  {
   "cell_type": "code",
   "execution_count": 26,
   "metadata": {},
   "outputs": [
    {
     "data": {
      "text/html": [
       "<div>\n",
       "<style scoped>\n",
       "    .dataframe tbody tr th:only-of-type {\n",
       "        vertical-align: middle;\n",
       "    }\n",
       "\n",
       "    .dataframe tbody tr th {\n",
       "        vertical-align: top;\n",
       "    }\n",
       "\n",
       "    .dataframe thead th {\n",
       "        text-align: right;\n",
       "    }\n",
       "</style>\n",
       "<table border=\"1\" class=\"dataframe\">\n",
       "  <thead>\n",
       "    <tr style=\"text-align: right;\">\n",
       "      <th></th>\n",
       "      <th>ctf/accel_kv</th>\n",
       "      <th>ctf/amp_contrast</th>\n",
       "      <th>ctf/anisomag</th>\n",
       "      <th>ctf/bfactor</th>\n",
       "      <th>ctf/cs_mm</th>\n",
       "      <th>ctf/df1_A</th>\n",
       "      <th>ctf/df2_A</th>\n",
       "      <th>ctf/df_angle_rad</th>\n",
       "      <th>ctf/exp_group_id</th>\n",
       "      <th>ctf/phase_shift_rad</th>\n",
       "      <th>...</th>\n",
       "      <th>location/exp_group_id</th>\n",
       "      <th>location/micrograph_path</th>\n",
       "      <th>location/micrograph_shape</th>\n",
       "      <th>location/micrograph_uid</th>\n",
       "      <th>location/min_dist_A</th>\n",
       "      <th>pick_stats/angle_rad</th>\n",
       "      <th>pick_stats/ncc_score</th>\n",
       "      <th>pick_stats/power</th>\n",
       "      <th>pick_stats/template_idx</th>\n",
       "      <th>uid</th>\n",
       "    </tr>\n",
       "  </thead>\n",
       "  <tbody>\n",
       "    <tr>\n",
       "      <th>0</th>\n",
       "      <td>300.0</td>\n",
       "      <td>0.1</td>\n",
       "      <td>[0.0, 0.0, 0.0, 0.0]</td>\n",
       "      <td>0.0</td>\n",
       "      <td>2.7</td>\n",
       "      <td>12453.643555</td>\n",
       "      <td>12341.103516</td>\n",
       "      <td>4.694420</td>\n",
       "      <td>0</td>\n",
       "      <td>0.0</td>\n",
       "      <td>...</td>\n",
       "      <td>0</td>\n",
       "      <td>J2/motioncorrected/009270517818331954156_14sep...</td>\n",
       "      <td>[7676, 7420]</td>\n",
       "      <td>9270517818331954156</td>\n",
       "      <td>100.0</td>\n",
       "      <td>0.000000</td>\n",
       "      <td>0.821854</td>\n",
       "      <td>686.504211</td>\n",
       "      <td>3</td>\n",
       "      <td>5182375780654809529</td>\n",
       "    </tr>\n",
       "    <tr>\n",
       "      <th>1</th>\n",
       "      <td>300.0</td>\n",
       "      <td>0.1</td>\n",
       "      <td>[0.0, 0.0, 0.0, 0.0]</td>\n",
       "      <td>0.0</td>\n",
       "      <td>2.7</td>\n",
       "      <td>12321.397461</td>\n",
       "      <td>12208.857422</td>\n",
       "      <td>4.694420</td>\n",
       "      <td>0</td>\n",
       "      <td>0.0</td>\n",
       "      <td>...</td>\n",
       "      <td>0</td>\n",
       "      <td>J2/motioncorrected/009270517818331954156_14sep...</td>\n",
       "      <td>[7676, 7420]</td>\n",
       "      <td>9270517818331954156</td>\n",
       "      <td>100.0</td>\n",
       "      <td>0.000000</td>\n",
       "      <td>0.795290</td>\n",
       "      <td>801.999390</td>\n",
       "      <td>3</td>\n",
       "      <td>12660056651751289214</td>\n",
       "    </tr>\n",
       "    <tr>\n",
       "      <th>2</th>\n",
       "      <td>300.0</td>\n",
       "      <td>0.1</td>\n",
       "      <td>[0.0, 0.0, 0.0, 0.0]</td>\n",
       "      <td>0.0</td>\n",
       "      <td>2.7</td>\n",
       "      <td>12363.504883</td>\n",
       "      <td>12250.964844</td>\n",
       "      <td>4.694420</td>\n",
       "      <td>0</td>\n",
       "      <td>0.0</td>\n",
       "      <td>...</td>\n",
       "      <td>0</td>\n",
       "      <td>J2/motioncorrected/009270517818331954156_14sep...</td>\n",
       "      <td>[7676, 7420]</td>\n",
       "      <td>9270517818331954156</td>\n",
       "      <td>100.0</td>\n",
       "      <td>0.959931</td>\n",
       "      <td>0.764936</td>\n",
       "      <td>729.822632</td>\n",
       "      <td>3</td>\n",
       "      <td>17971771557537199412</td>\n",
       "    </tr>\n",
       "    <tr>\n",
       "      <th>3</th>\n",
       "      <td>300.0</td>\n",
       "      <td>0.1</td>\n",
       "      <td>[0.0, 0.0, 0.0, 0.0]</td>\n",
       "      <td>0.0</td>\n",
       "      <td>2.7</td>\n",
       "      <td>12401.663086</td>\n",
       "      <td>12289.123047</td>\n",
       "      <td>4.694420</td>\n",
       "      <td>0</td>\n",
       "      <td>0.0</td>\n",
       "      <td>...</td>\n",
       "      <td>0</td>\n",
       "      <td>J2/motioncorrected/009270517818331954156_14sep...</td>\n",
       "      <td>[7676, 7420]</td>\n",
       "      <td>9270517818331954156</td>\n",
       "      <td>100.0</td>\n",
       "      <td>2.617994</td>\n",
       "      <td>0.746300</td>\n",
       "      <td>778.620056</td>\n",
       "      <td>3</td>\n",
       "      <td>17954957875627625872</td>\n",
       "    </tr>\n",
       "    <tr>\n",
       "      <th>4</th>\n",
       "      <td>300.0</td>\n",
       "      <td>0.1</td>\n",
       "      <td>[0.0, 0.0, 0.0, 0.0]</td>\n",
       "      <td>0.0</td>\n",
       "      <td>2.7</td>\n",
       "      <td>12421.460938</td>\n",
       "      <td>12308.920898</td>\n",
       "      <td>4.694420</td>\n",
       "      <td>0</td>\n",
       "      <td>0.0</td>\n",
       "      <td>...</td>\n",
       "      <td>0</td>\n",
       "      <td>J2/motioncorrected/009270517818331954156_14sep...</td>\n",
       "      <td>[7676, 7420]</td>\n",
       "      <td>9270517818331954156</td>\n",
       "      <td>100.0</td>\n",
       "      <td>0.436332</td>\n",
       "      <td>0.720111</td>\n",
       "      <td>862.048706</td>\n",
       "      <td>3</td>\n",
       "      <td>5996321661655483102</td>\n",
       "    </tr>\n",
       "    <tr>\n",
       "      <th>...</th>\n",
       "      <td>...</td>\n",
       "      <td>...</td>\n",
       "      <td>...</td>\n",
       "      <td>...</td>\n",
       "      <td>...</td>\n",
       "      <td>...</td>\n",
       "      <td>...</td>\n",
       "      <td>...</td>\n",
       "      <td>...</td>\n",
       "      <td>...</td>\n",
       "      <td>...</td>\n",
       "      <td>...</td>\n",
       "      <td>...</td>\n",
       "      <td>...</td>\n",
       "      <td>...</td>\n",
       "      <td>...</td>\n",
       "      <td>...</td>\n",
       "      <td>...</td>\n",
       "      <td>...</td>\n",
       "      <td>...</td>\n",
       "      <td>...</td>\n",
       "    </tr>\n",
       "    <tr>\n",
       "      <th>12225</th>\n",
       "      <td>300.0</td>\n",
       "      <td>0.1</td>\n",
       "      <td>[0.0, 0.0, 0.0, 0.0]</td>\n",
       "      <td>0.0</td>\n",
       "      <td>2.7</td>\n",
       "      <td>15801.009766</td>\n",
       "      <td>15617.719727</td>\n",
       "      <td>-1.555879</td>\n",
       "      <td>0</td>\n",
       "      <td>0.0</td>\n",
       "      <td>...</td>\n",
       "      <td>0</td>\n",
       "      <td>J2/motioncorrected/011310893595949852984_14sep...</td>\n",
       "      <td>[7676, 7420]</td>\n",
       "      <td>11310893595949852984</td>\n",
       "      <td>100.0</td>\n",
       "      <td>1.570796</td>\n",
       "      <td>0.202069</td>\n",
       "      <td>727.920898</td>\n",
       "      <td>3</td>\n",
       "      <td>13269417710913639089</td>\n",
       "    </tr>\n",
       "    <tr>\n",
       "      <th>12226</th>\n",
       "      <td>300.0</td>\n",
       "      <td>0.1</td>\n",
       "      <td>[0.0, 0.0, 0.0, 0.0]</td>\n",
       "      <td>0.0</td>\n",
       "      <td>2.7</td>\n",
       "      <td>15720.578125</td>\n",
       "      <td>15537.288086</td>\n",
       "      <td>-1.555879</td>\n",
       "      <td>0</td>\n",
       "      <td>0.0</td>\n",
       "      <td>...</td>\n",
       "      <td>0</td>\n",
       "      <td>J2/motioncorrected/011310893595949852984_14sep...</td>\n",
       "      <td>[7676, 7420]</td>\n",
       "      <td>11310893595949852984</td>\n",
       "      <td>100.0</td>\n",
       "      <td>4.886922</td>\n",
       "      <td>0.201657</td>\n",
       "      <td>779.085510</td>\n",
       "      <td>3</td>\n",
       "      <td>12819948907579588581</td>\n",
       "    </tr>\n",
       "    <tr>\n",
       "      <th>12227</th>\n",
       "      <td>300.0</td>\n",
       "      <td>0.1</td>\n",
       "      <td>[0.0, 0.0, 0.0, 0.0]</td>\n",
       "      <td>0.0</td>\n",
       "      <td>2.7</td>\n",
       "      <td>15746.330078</td>\n",
       "      <td>15563.040039</td>\n",
       "      <td>-1.555879</td>\n",
       "      <td>0</td>\n",
       "      <td>0.0</td>\n",
       "      <td>...</td>\n",
       "      <td>0</td>\n",
       "      <td>J2/motioncorrected/011310893595949852984_14sep...</td>\n",
       "      <td>[7676, 7420]</td>\n",
       "      <td>11310893595949852984</td>\n",
       "      <td>100.0</td>\n",
       "      <td>2.443461</td>\n",
       "      <td>0.200585</td>\n",
       "      <td>772.648499</td>\n",
       "      <td>3</td>\n",
       "      <td>4627702747760153532</td>\n",
       "    </tr>\n",
       "    <tr>\n",
       "      <th>12228</th>\n",
       "      <td>300.0</td>\n",
       "      <td>0.1</td>\n",
       "      <td>[0.0, 0.0, 0.0, 0.0]</td>\n",
       "      <td>0.0</td>\n",
       "      <td>2.7</td>\n",
       "      <td>15743.455078</td>\n",
       "      <td>15560.165039</td>\n",
       "      <td>-1.555879</td>\n",
       "      <td>0</td>\n",
       "      <td>0.0</td>\n",
       "      <td>...</td>\n",
       "      <td>0</td>\n",
       "      <td>J2/motioncorrected/011310893595949852984_14sep...</td>\n",
       "      <td>[7676, 7420]</td>\n",
       "      <td>11310893595949852984</td>\n",
       "      <td>100.0</td>\n",
       "      <td>1.570796</td>\n",
       "      <td>0.198699</td>\n",
       "      <td>871.016724</td>\n",
       "      <td>3</td>\n",
       "      <td>13411574058928503699</td>\n",
       "    </tr>\n",
       "    <tr>\n",
       "      <th>12229</th>\n",
       "      <td>300.0</td>\n",
       "      <td>0.1</td>\n",
       "      <td>[0.0, 0.0, 0.0, 0.0]</td>\n",
       "      <td>0.0</td>\n",
       "      <td>2.7</td>\n",
       "      <td>15814.901367</td>\n",
       "      <td>15631.611328</td>\n",
       "      <td>-1.555879</td>\n",
       "      <td>0</td>\n",
       "      <td>0.0</td>\n",
       "      <td>...</td>\n",
       "      <td>0</td>\n",
       "      <td>J2/motioncorrected/011310893595949852984_14sep...</td>\n",
       "      <td>[7676, 7420]</td>\n",
       "      <td>11310893595949852984</td>\n",
       "      <td>100.0</td>\n",
       "      <td>5.323254</td>\n",
       "      <td>0.198553</td>\n",
       "      <td>646.006897</td>\n",
       "      <td>3</td>\n",
       "      <td>510935515943909986</td>\n",
       "    </tr>\n",
       "  </tbody>\n",
       "</table>\n",
       "<p>12230 rows × 29 columns</p>\n",
       "</div>"
      ],
      "text/plain": [
       "       ctf/accel_kv  ctf/amp_contrast          ctf/anisomag  ctf/bfactor  \\\n",
       "0             300.0               0.1  [0.0, 0.0, 0.0, 0.0]          0.0   \n",
       "1             300.0               0.1  [0.0, 0.0, 0.0, 0.0]          0.0   \n",
       "2             300.0               0.1  [0.0, 0.0, 0.0, 0.0]          0.0   \n",
       "3             300.0               0.1  [0.0, 0.0, 0.0, 0.0]          0.0   \n",
       "4             300.0               0.1  [0.0, 0.0, 0.0, 0.0]          0.0   \n",
       "...             ...               ...                   ...          ...   \n",
       "12225         300.0               0.1  [0.0, 0.0, 0.0, 0.0]          0.0   \n",
       "12226         300.0               0.1  [0.0, 0.0, 0.0, 0.0]          0.0   \n",
       "12227         300.0               0.1  [0.0, 0.0, 0.0, 0.0]          0.0   \n",
       "12228         300.0               0.1  [0.0, 0.0, 0.0, 0.0]          0.0   \n",
       "12229         300.0               0.1  [0.0, 0.0, 0.0, 0.0]          0.0   \n",
       "\n",
       "       ctf/cs_mm     ctf/df1_A     ctf/df2_A  ctf/df_angle_rad  \\\n",
       "0            2.7  12453.643555  12341.103516          4.694420   \n",
       "1            2.7  12321.397461  12208.857422          4.694420   \n",
       "2            2.7  12363.504883  12250.964844          4.694420   \n",
       "3            2.7  12401.663086  12289.123047          4.694420   \n",
       "4            2.7  12421.460938  12308.920898          4.694420   \n",
       "...          ...           ...           ...               ...   \n",
       "12225        2.7  15801.009766  15617.719727         -1.555879   \n",
       "12226        2.7  15720.578125  15537.288086         -1.555879   \n",
       "12227        2.7  15746.330078  15563.040039         -1.555879   \n",
       "12228        2.7  15743.455078  15560.165039         -1.555879   \n",
       "12229        2.7  15814.901367  15631.611328         -1.555879   \n",
       "\n",
       "       ctf/exp_group_id  ctf/phase_shift_rad  ...  location/exp_group_id  \\\n",
       "0                     0                  0.0  ...                      0   \n",
       "1                     0                  0.0  ...                      0   \n",
       "2                     0                  0.0  ...                      0   \n",
       "3                     0                  0.0  ...                      0   \n",
       "4                     0                  0.0  ...                      0   \n",
       "...                 ...                  ...  ...                    ...   \n",
       "12225                 0                  0.0  ...                      0   \n",
       "12226                 0                  0.0  ...                      0   \n",
       "12227                 0                  0.0  ...                      0   \n",
       "12228                 0                  0.0  ...                      0   \n",
       "12229                 0                  0.0  ...                      0   \n",
       "\n",
       "                                location/micrograph_path  \\\n",
       "0      J2/motioncorrected/009270517818331954156_14sep...   \n",
       "1      J2/motioncorrected/009270517818331954156_14sep...   \n",
       "2      J2/motioncorrected/009270517818331954156_14sep...   \n",
       "3      J2/motioncorrected/009270517818331954156_14sep...   \n",
       "4      J2/motioncorrected/009270517818331954156_14sep...   \n",
       "...                                                  ...   \n",
       "12225  J2/motioncorrected/011310893595949852984_14sep...   \n",
       "12226  J2/motioncorrected/011310893595949852984_14sep...   \n",
       "12227  J2/motioncorrected/011310893595949852984_14sep...   \n",
       "12228  J2/motioncorrected/011310893595949852984_14sep...   \n",
       "12229  J2/motioncorrected/011310893595949852984_14sep...   \n",
       "\n",
       "      location/micrograph_shape location/micrograph_uid location/min_dist_A  \\\n",
       "0                  [7676, 7420]     9270517818331954156               100.0   \n",
       "1                  [7676, 7420]     9270517818331954156               100.0   \n",
       "2                  [7676, 7420]     9270517818331954156               100.0   \n",
       "3                  [7676, 7420]     9270517818331954156               100.0   \n",
       "4                  [7676, 7420]     9270517818331954156               100.0   \n",
       "...                         ...                     ...                 ...   \n",
       "12225              [7676, 7420]    11310893595949852984               100.0   \n",
       "12226              [7676, 7420]    11310893595949852984               100.0   \n",
       "12227              [7676, 7420]    11310893595949852984               100.0   \n",
       "12228              [7676, 7420]    11310893595949852984               100.0   \n",
       "12229              [7676, 7420]    11310893595949852984               100.0   \n",
       "\n",
       "      pick_stats/angle_rad pick_stats/ncc_score  pick_stats/power  \\\n",
       "0                 0.000000             0.821854        686.504211   \n",
       "1                 0.000000             0.795290        801.999390   \n",
       "2                 0.959931             0.764936        729.822632   \n",
       "3                 2.617994             0.746300        778.620056   \n",
       "4                 0.436332             0.720111        862.048706   \n",
       "...                    ...                  ...               ...   \n",
       "12225             1.570796             0.202069        727.920898   \n",
       "12226             4.886922             0.201657        779.085510   \n",
       "12227             2.443461             0.200585        772.648499   \n",
       "12228             1.570796             0.198699        871.016724   \n",
       "12229             5.323254             0.198553        646.006897   \n",
       "\n",
       "       pick_stats/template_idx                   uid  \n",
       "0                            3   5182375780654809529  \n",
       "1                            3  12660056651751289214  \n",
       "2                            3  17971771557537199412  \n",
       "3                            3  17954957875627625872  \n",
       "4                            3   5996321661655483102  \n",
       "...                        ...                   ...  \n",
       "12225                        3  13269417710913639089  \n",
       "12226                        3  12819948907579588581  \n",
       "12227                        3   4627702747760153532  \n",
       "12228                        3  13411574058928503699  \n",
       "12229                        3    510935515943909986  \n",
       "\n",
       "[12230 rows x 29 columns]"
      ]
     },
     "execution_count": 26,
     "metadata": {},
     "output_type": "execute_result"
    }
   ],
   "source": [
    "particles = job.load_output(\"particles\", slots=[\"location\", \"ctf\"])\n",
    "pd.DataFrame(particles.rows())"
   ]
  },
  {
   "cell_type": "markdown",
   "metadata": {},
   "source": [
    "`load_output` includes all created and passthrough metadata if `slots` is not provided.\n",
    "\n",
    "Dataset contents may be accessed as a dictionary of columns, where each column is a numpy array. Example data access:"
   ]
  },
  {
   "cell_type": "code",
   "execution_count": 30,
   "metadata": {},
   "outputs": [],
   "source": [
    "expgroups = particles[\"ctf/exp_group_id\"]  # read column\n",
    "particles[\"ctf/exp_group_id\"][:] = 42  # write column\n",
    "particles[\"ctf/exp_group_id\"][42] = 1  # write cell"
   ]
  },
  {
   "cell_type": "markdown",
   "metadata": {},
   "source": [
    "If required, use an [External job](cryosparc.job.ExternalJob) to save modified datasets back to CryoSPARC.\n",
    "\n",
    "See the [Dataset API documentation](../api/dataset.rst) for all available dataset operations.\n",
    "\n",
    "### Assets\n",
    "\n",
    "Jobs may produce image files, plots and other miscellaneous output data that is accessible from the web interface when inspecting a job. These assets are not available on the file system; instead, CryoSPARC stores them in its MongoDB database for fast, frequent access.\n",
    "\n",
    "Use the [`job.list_assets()`](cryosparc.job.Job.list_assets) function to view available assets for a job:"
   ]
  },
  {
   "cell_type": "code",
   "execution_count": 31,
   "metadata": {},
   "outputs": [
    {
     "data": {
      "text/plain": [
       "{'_id': '6560d183562b2c67c7d35754',\n",
       " 'chunkSize': 2096128,\n",
       " 'contentType': 'image/png',\n",
       " 'filename': 'J96_extracted_coordinates_on_j2motioncorrected009270517818331954156_14sep05c_00024sq_00003hl_00002esframes_patch_aligned_doseweightedmrc.png',\n",
       " 'job_uid': 'J96',\n",
       " 'length': 867617,\n",
       " 'md5': '471ab293b92726043c8277cb6964f70b',\n",
       " 'project_uid': 'P251',\n",
       " 'uploadDate': '2023-11-24T16:38:27.800000'}"
      ]
     },
     "execution_count": 31,
     "metadata": {},
     "output_type": "execute_result"
    }
   ],
   "source": [
    "assets = job.list_assets()\n",
    "assets[0]"
   ]
  },
  {
   "cell_type": "markdown",
   "metadata": {},
   "source": [
    "Similar to `job.download_file()`, download an asset to disk with the [`job.download_asset()`](cryosparc.job.Job.download_asset), providing the asset ID and download location:"
   ]
  },
  {
   "cell_type": "code",
   "execution_count": 32,
   "metadata": {},
   "outputs": [
    {
     "data": {
      "text/plain": [
       "PosixPath('image.png')"
      ]
     },
     "execution_count": 32,
     "metadata": {},
     "output_type": "execute_result"
    }
   ],
   "source": [
    "job.download_asset(assets[0][\"_id\"], \"image.png\")"
   ]
  },
  {
   "cell_type": "markdown",
   "metadata": {},
   "source": [
    "## External Jobs\n",
    "\n",
    "cryosparc-tools may be integrated into custom cryo-EM workflows to load, modify and save CryoSPARC job results. It may also be used to integrate third-party cryo-EM tools such as Motioncor2, crYOLO or cryoDRGN with CryoSPARC.\n",
    "\n",
    "External Jobs are special job types used to save these externally-processed results back to CryoSPARC. Read the [examples](../examples/recenter-particles.ipynb) or the [API documention](cryosparc.job.ExternalJob) for more details."
   ]
  }
 ],
 "metadata": {
  "kernelspec": {
   "display_name": "Python 3 (ipykernel)",
   "language": "python",
   "name": "python3"
  }
 },
 "nbformat": 4,
 "nbformat_minor": 2
}
