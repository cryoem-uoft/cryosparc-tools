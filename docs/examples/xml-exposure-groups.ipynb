{
 "cells": [
  {
   "cell_type": "markdown",
   "metadata": {},
   "source": [
    "# Import from EPU XML File\n",
    "\n",
    "This example uses the [EMPIAR-10409 dataset](https://www.ebi.ac.uk/empiar/EMPIAR-10409/) demonstrate how to import multiple movie or micrograph datasets from an EPU-generated XML file.\n",
    "\n",
    "First initialize a connection to CryoSPARC and find the project."
   ]
  },
  {
   "cell_type": "code",
   "execution_count": 1,
   "metadata": {},
   "outputs": [
    {
     "name": "stdout",
     "output_type": "stream",
     "text": [
      "Connection succeeded to CryoSPARC command_core at http://cryoem5:40002\n",
      "Connection succeeded to CryoSPARC command_vis at http://cryoem5:40003\n"
     ]
    }
   ],
   "source": [
    "from cryosparc.tools import CryoSPARC\n",
    "\n",
    "cs = CryoSPARC(host=\"cryoem5\", base_port=40000)\n",
    "assert cs.test_connection()\n",
    "\n",
    "project = cs.find_project(\"P251\")"
   ]
  },
  {
   "cell_type": "markdown",
   "metadata": {},
   "source": [
    "Create a job which receives each set of images in the XML file as outputs."
   ]
  },
  {
   "cell_type": "code",
   "execution_count": 2,
   "metadata": {},
   "outputs": [],
   "source": [
    "job = project.create_external_job(\"W7\", title=\"Import Image Sets\")"
   ]
  },
  {
   "cell_type": "markdown",
   "metadata": {},
   "source": [
    "Load the EPU-generated XML file from disk. Also define some helper functions to access the contents of an XML tree."
   ]
  },
  {
   "cell_type": "code",
   "execution_count": 3,
   "metadata": {},
   "outputs": [],
   "source": [
    "from pathlib import Path\n",
    "from xml.dom import minidom\n",
    "\n",
    "root_dir = Path(\"/bulk6/data/EMPIAR2/10409/10409\")\n",
    "with open(root_dir / \"10409.xml\", \"r\") as f:\n",
    "    doc = minidom.parse(f)\n",
    "\n",
    "\n",
    "def get_child(node, child_tag):\n",
    "    return node.getElementsByTagName(child_tag)[0]\n",
    "\n",
    "\n",
    "def get_child_value(node, child_tag):\n",
    "    return get_child(node, child_tag).firstChild.nodeValue.strip()"
   ]
  },
  {
   "cell_type": "markdown",
   "metadata": {},
   "source": [
    "The XML file has the following structure (parts truncated for brevity):\n",
    "\n",
    "```xml\n",
    " <entry xmlns=\"http://pdbe.org/empiar\" xmlns:xsi=\"http://www.w3.org/2001/XMLSchema-instance\" xsi:schemaLocation=\"ftp://ftp.ebi.ac.uk/pub/databases/emtest/empiar/schema/empiar.xsd\" accessionCode=\"EMPIAR-10409\" public=\"true\">\n",
    "    <admin>\n",
    "        ...\n",
    "    </admin>\n",
    "    ...\n",
    "    <imageSet>\n",
    "        <name>Unaligned TIF movies of SARS-CoV2 RdRp in complex with nsp7, nsp8 and RNA (part 1)</name>\n",
    "        <directory>/data/data_tilt30_round1</directory>\n",
    "        <category>micrographs - multiframe</category>\n",
    "        <headerFormat>TIFF</headerFormat>\n",
    "        <dataFormat>TIFF</dataFormat>\n",
    "        <numImagesOrTiltSeries>3092</numImagesOrTiltSeries>\n",
    "        <framesPerImage>80</framesPerImage>\n",
    "        <voxelType>UNSIGNED BYTE</voxelType>\n",
    "        <dimensions>\n",
    "            <imageWidth>5760</imageWidth>\n",
    "            <pixelWidth>0.834</pixelWidth>\n",
    "            <imageHeight>4092</imageHeight>\n",
    "            <pixelHeight>0.834</pixelHeight>\n",
    "        </dimensions>\n",
    "        <details>...</details>\n",
    "        <segmentationList/>\n",
    "        <micrographsFilePattern>data/data_tilt30_round1/HH691_funky_RNA_tilt30_*.tif</micrographsFilePattern>\n",
    "        <pickedParticlesFilePattern>data/data_tilt30_round1/matching/HH691_funky_RNA_tilt30_*_SARSCoV2_nsp12_net_4.star</pickedParticlesFilePattern>\n",
    "        <pickedParticlesDirectory>data/data_tilt30_round1/matching/</pickedParticlesDirectory>\n",
    "    </imageSet>\n",
    "    <imageSet>\n",
    "        ...\n",
    "    </imageSet>\n",
    "    ...\n",
    "</entry>\n",
    "```\n",
    "\n",
    "Find all `<imageSet>` tags, take only the first two. These which correspond to two sets of unaligned TIFF movie files. For each image set:\n",
    "1. Use the helper functions to get the values of various tags available in this dataset\n",
    "2. Use the `glob` module to retrieve the relavant list of movie files\n",
    "3. Add an `exposure` output to the job and allocate a dataset with the relevant fields\n",
    "4. Populate the required fields\n",
    "5. Save the output to the job"
   ]
  },
  {
   "cell_type": "code",
   "execution_count": 4,
   "metadata": {},
   "outputs": [],
   "source": [
    "from glob import glob\n",
    "\n",
    "from cryosparc.tools import get_exposure_format, get_import_signatures\n",
    "\n",
    "job.start()\n",
    "\n",
    "for i, node in enumerate(doc.getElementsByTagName(\"imageSet\")[:2]):\n",
    "    directory = get_child_value(node, \"directory\")\n",
    "    file_pattern = get_child_value(node, \"micrographsFilePattern\")\n",
    "    data_format = get_child_value(node, \"dataFormat\")\n",
    "    voxel_type = get_child_value(node, \"voxelType\")\n",
    "    frames_per_image = int(get_child_value(node, \"framesPerImage\"))\n",
    "\n",
    "    dimensions_node = get_child(node, \"dimensions\")\n",
    "    pixel_width = float(get_child_value(dimensions_node, \"pixelWidth\"))\n",
    "    image_width = int(get_child_value(dimensions_node, \"imageWidth\"))\n",
    "    image_height = int(get_child_value(dimensions_node, \"imageHeight\"))\n",
    "\n",
    "    paths = glob(str(root_dir / file_pattern))\n",
    "    output_name = f\"images_{i}\"\n",
    "    dset = job.add_output(\n",
    "        type=\"exposure\",\n",
    "        name=f\"images_{i}\",\n",
    "        slots=[\"movie_blob\", \"mscope_params\", \"gain_ref_blob\"],\n",
    "        alloc=len(paths),\n",
    "    )\n",
    "\n",
    "    dset[\"movie_blob/path\"] = paths\n",
    "    dset[\"movie_blob/shape\"] = (frames_per_image, image_height, image_width)\n",
    "    dset[\"movie_blob/psize_A\"] = pixel_width\n",
    "    dset[\"movie_blob/format\"] = get_exposure_format(data_format, voxel_type)\n",
    "    dset[\"movie_blob/import_sig\"] = get_import_signatures(paths)\n",
    "\n",
    "    # Note: Some of these may also be read from included per-micrograph XML files\n",
    "    dset[\"mscope_params/accel_kv\"] = 300\n",
    "    dset[\"mscope_params/cs_mm\"] = 2.7\n",
    "    dset[\"mscope_params/total_dose_e_per_A2\"] = 60\n",
    "    dset[\"mscope_params/exp_group_id\"] = i\n",
    "    dset[\"mscope_params/defect_path\"] = \"\"\n",
    "\n",
    "    gain_path = str(root_dir / directory[1:] / \"gain\" / \"CountRef.mrc\")\n",
    "    dset[\"gain_ref_blob/path\"] = str(gain_path)\n",
    "    dset[\"gain_ref_blob/shape\"] = (image_height, image_width)\n",
    "\n",
    "    job.save_output(f\"images_{i}\", dset)\n",
    "\n",
    "job.stop()"
   ]
  },
  {
   "cell_type": "markdown",
   "metadata": {},
   "source": [
    "The above will result in an External job with two outputs `images_0` and `images_1`. Use these for further processing.\n",
    "\n",
    "```{note}\n",
    "When importing single-frame mirographs, use slot `micrograph_blob` instead of `movie_blob`.\n",
    "```"
   ]
  }
 ],
 "metadata": {
  "kernelspec": {
   "display_name": "Python 3 (ipykernel)",
   "language": "python",
   "name": "python3"
  },
  "language_info": {
   "codemirror_mode": {
    "name": "ipython",
    "version": 3
   },
   "file_extension": ".py",
   "mimetype": "text/x-python",
   "name": "python",
   "nbconvert_exporter": "python",
   "pygments_lexer": "ipython3",
   "version": "3.8.15"
  },
  "orig_nbformat": 4
 },
 "nbformat": 4,
 "nbformat_minor": 2
}
