{
 "cells": [
  {
   "cell_type": "markdown",
   "metadata": {},
   "source": [
    "# Revert downsampled, symmetry expanded particles\n",
    "\n",
    "Re-extracting particles after symmetry expansion is wasteful, since it creates a particle stack N times larger than is necessary, where N is the number of symmetry-related positions. However, during particle cleanup it is often helpful to work with smaller images, since most cleanup operations do not require high resolution information.\n",
    "\n",
    "This notebook illustrates the process of using a subset of particles (presumably after some junk has been removed) to filter the full-size particle images.\n",
    "\n",
    "We presume the following jobs have already been run in CryoSPARC:\n",
    "\n",
    " * an initial consensus refinement\n",
    " * a symmetry expansion of this consensus refinement. This is the full-size symmetry expansion, in our case Job 31.\n",
    " * a Downsample job of the consensus refinement\n",
    " * a symmetry expansion of this Downsample job.\n",
    " * some number of jobs to curate and filter the downsampled, symmetry-expanded particles. This is the downsampled particle stack, in our case Job 34.\n",
    "\n",
    "![An example of the workflow expected for this script. J15 is the consensus refinement, J31 the full-size symmetry expansion, and J20 the downsampled, symmetry-expanded particles.](attachments/upscale-particles_workflow.png)\n",
    "\n",
    "```{warning}\n",
    "The results of this notebook will retain all poses, CTF fit, and other information from the full-size symmetry expansion. If the poses or other information from the jobs performed on the downsampled, symmetry-expanded particles are required, they will need to be transferred to the final result.\n",
    "```"
   ]
  },
  {
   "cell_type": "code",
   "execution_count": 2,
   "metadata": {},
   "outputs": [
    {
     "name": "stdout",
     "output_type": "stream",
     "text": [
      "Connection succeeded to CryoSPARC command_core at http://localhost:40002\n",
      "Connection succeeded to CryoSPARC command_vis at http://localhost:40003\n",
      "Connection succeeded to CryoSPARC command_rtp at http://localhost:40005\n"
     ]
    },
    {
     "data": {
      "text/plain": [
       "True"
      ]
     },
     "execution_count": 2,
     "metadata": {},
     "output_type": "execute_result"
    }
   ],
   "source": [
    "from cryosparc.tools import CryoSPARC\n",
    "\n",
    "cs = CryoSPARC(base_port=40000)\n",
    "cs.test_connection()"
   ]
  },
  {
   "cell_type": "markdown",
   "metadata": {},
   "source": [
    "First, we load the relevant projects and jobs. Storing the project and job IDs in variables makes later steps easier."
   ]
  },
  {
   "cell_type": "code",
   "execution_count": 3,
   "metadata": {},
   "outputs": [],
   "source": [
    "select_project = \"P294\"\n",
    "select_workspace = \"W2\"\n",
    "job_fullsize_particles = \"J31\"\n",
    "job_downsampled_particles = \"J34\"\n",
    "\n",
    "ds_particles = cs.find_job(select_project, job_downsampled_particles).load_output(\"particles\")\n",
    "full_particles = cs.find_job(select_project, job_fullsize_particles).load_output(\"particles\")"
   ]
  },
  {
   "cell_type": "markdown",
   "metadata": {},
   "source": [
    "Symmetry expansion assigns a new UID to each particle, so we cannot simply use UIDs to filter the fullsize particles. Instead, we must use the combination of two other fields created during symmetry expansion:\n",
    "\n",
    " * `sym_expand/src_uid`, which stores the UID of the original, unexpanded particle image from which this symmetry copy was created\n",
    " * `sym_expand/idx`, which stores the index for this symmetry copy. For example, in a C2 symmetry expansion, `sym_expand/idx` alternates between `0` and `1`; in a C6 expansion it would range from `0` to `5`.\n",
    "\n",
    "The combination of these two fields uniquely identifies a symmetry expansion of a particle image. We add a field to both the fullsize and downsampled symmetry-expanded particles containing the combination of these fields."
   ]
  },
  {
   "cell_type": "code",
   "execution_count": 5,
   "metadata": {},
   "outputs": [],
   "source": [
    "full_particles.add_fields([\"intersect_field\"], [\"str\"])\n",
    "full_particles[\"intersect_field\"] = [\n",
    "    # this list comprehension creates a combined field, like 123456.0 for a particle\n",
    "    # with src_uid = 123456 and idx = 0\n",
    "    f\"{r['sym_expand/src_uid']}.{r['sym_expand/idx']}\"\n",
    "    for r in full_particles.rows()\n",
    "]\n",
    "ds_particles.add_fields([\"intersect_field\"], [\"str\"])\n",
    "ds_particles[\"intersect_field\"] = [f\"{r['sym_expand/src_uid']}.{r['sym_expand/idx']}\" for r in ds_particles.rows()]"
   ]
  },
  {
   "cell_type": "markdown",
   "metadata": {},
   "source": [
    "Next, we keep only the particles with an `intersect_field` value that is in the downsampled particles as well. This step is a little slow, since it is performing a great number of string comparisons."
   ]
  },
  {
   "cell_type": "code",
   "execution_count": 6,
   "metadata": {},
   "outputs": [],
   "source": [
    "intersection = full_particles.query({\"intersect_field\": ds_particles[\"intersect_field\"]})"
   ]
  },
  {
   "cell_type": "markdown",
   "metadata": {},
   "source": [
    "Finally, we use `save_external_result` to create an External Job in our CryoSPARC instance containing only the filtered particles.\n",
    "\n",
    "Note that we pass the fullsize particles' poses through. If the poses from the downsampled particles were desired, first the pixel size and shifts would have to be adjusted for the new, fullsize images."
   ]
  },
  {
   "cell_type": "code",
   "execution_count": 7,
   "metadata": {},
   "outputs": [
    {
     "data": {
      "text/plain": [
       "'J55'"
      ]
     },
     "execution_count": 7,
     "metadata": {},
     "output_type": "execute_result"
    }
   ],
   "source": [
    "cs.save_external_result(\n",
    "    select_project,\n",
    "    select_workspace,\n",
    "    intersection,\n",
    "    type=\"particle\",\n",
    "    name=\"sym_expand_intersection\",\n",
    "    slots=[\"blob\"],\n",
    "    passthrough=(job_fullsize_particles, \"particles\"),\n",
    "    title=\"Filtered Subset\",\n",
    ")"
   ]
  },
  {
   "cell_type": "markdown",
   "metadata": {},
   "source": [
    "Checking J55, we see that we have successfully filtered the particles to the desired subset:\n",
    "\n",
    "![A screenshot of the External Job outputs showing that the resulting particle stack contains only 10,000 particles.](attachments/upscale-particles_result.png)"
   ]
  }
 ],
 "metadata": {
  "kernelspec": {
   "display_name": "cryosparc-tools",
   "language": "python",
   "name": "cryosparc-tools"
  },
  "language_info": {
   "codemirror_mode": {
    "name": "ipython",
    "version": 3
   },
   "file_extension": ".py",
   "mimetype": "text/x-python",
   "name": "python",
   "nbconvert_exporter": "python",
   "pygments_lexer": "ipython3",
   "version": "3.10.13"
  },
  "orig_nbformat": 4
 },
 "nbformat": 4,
 "nbformat_minor": 2
}
