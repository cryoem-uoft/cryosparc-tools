{
 "cells": [
  {
   "cell_type": "markdown",
   "id": "21936b7f",
   "metadata": {},
   "source": [
    "# Connect a volume series to Class3D\n",
    "\n",
    "This notebook connects each volume from a volume series (like those produced by 3D Var Display) to a 3D Class job. This saves the user the step of downloading a large volume series file, extracting it and uploading the volumes to the server, importing them, and manually connecting them to the job.\n",
    "\n",
    "```{note}\n",
    "Since this script unzips the volume series itself, it must be run on a system with access to CryoSPARC's filesystem.\n",
    "```"
   ]
  },
  {
   "cell_type": "code",
   "execution_count": 1,
   "id": "1a4ea579",
   "metadata": {
    "scrolled": false
   },
   "outputs": [
    {
     "name": "stdout",
     "output_type": "stream",
     "text": [
      "Connection succeeded to CryoSPARC command_core at http://localhost:40002\n",
      "Connection succeeded to CryoSPARC command_vis at http://localhost:40003\n",
      "Connection succeeded to CryoSPARC command_rtp at http://localhost:40005\n"
     ]
    }
   ],
   "source": [
    "from cryosparc.tools import CryoSPARC\n",
    "\n",
    "cs = CryoSPARC(base_port=40000)\n",
    "assert cs.test_connection()"
   ]
  },
  {
   "cell_type": "markdown",
   "id": "f1c7a115",
   "metadata": {},
   "source": [
    "First, we find the correct job and determine the path to the zipped Volume Series."
   ]
  },
  {
   "cell_type": "code",
   "execution_count": 4,
   "id": "9bd22767",
   "metadata": {},
   "outputs": [],
   "source": [
    "project = cs.find_project(\"P296\")\n",
    "workspace = project.find_workspace(\"W2\")\n",
    "var3Ddisp_job = project.find_job(\"J45\")\n",
    "\n",
    "desired_volume_series = 0\n",
    "\n",
    "series_path = var3Ddisp_job.load_output(\n",
    "    f\"series_{desired_volume_series}\"\n",
    ")[\"series/path\"][0]\n",
    "series_path = str(project.dir() / series_path)"
   ]
  },
  {
   "cell_type": "code",
   "execution_count": 5,
   "id": "fb4bbf2c",
   "metadata": {},
   "outputs": [
    {
     "name": "stdout",
     "output_type": "stream",
     "text": [
      "/bulk9/data/cryosparcdev_projects/rposert/CS-cb1-gpcr/J45/J45_component_000\n"
     ]
    }
   ],
   "source": [
    "unzip_path = series_path[:-4]\n",
    "print(unzip_path)\n",
    "\n",
    "import zipfile\n",
    "with zipfile.ZipFile(series_path, \"r\") as z:\n",
    "    z.extractall(unzip_path)"
   ]
  },
  {
   "cell_type": "markdown",
   "id": "1d0e8066",
   "metadata": {},
   "source": [
    "Now we simply create and launch an Import Volumes job, pointing it at all of the `.mrc` files we just extracted."
   ]
  },
  {
   "cell_type": "code",
   "execution_count": 7,
   "id": "14c734bf",
   "metadata": {},
   "outputs": [
    {
     "data": {
      "text/plain": [
       "'completed'"
      ]
     },
     "execution_count": 7,
     "metadata": {},
     "output_type": "execute_result"
    }
   ],
   "source": [
    "lane = \"cryoem9\"\n",
    "\n",
    "import_volumes_job = workspace.create_job(\n",
    "    \"import_volumes\", \n",
    "    params={\"volume_blob_path\": unzip_path + \"/*.mrc\"}\n",
    ")\n",
    "import_volumes_job.queue(lane)\n",
    "import_volumes_job.wait_for_done()"
   ]
  },
  {
   "cell_type": "markdown",
   "id": "4016d3f1",
   "metadata": {},
   "source": [
    "All that is left now is to create a 3D classification job and plug in the particles. This allows the user to plug in a desired particle stack and launch the job from the CryoSPARC interface."
   ]
  },
  {
   "cell_type": "code",
   "execution_count": 13,
   "id": "4161c9c5",
   "metadata": {},
   "outputs": [],
   "source": [
    "no_of_frames = len(import_volumes_job.doc['output_result_groups'])\n",
    "vol_outputs = [(import_volumes_job.uid, f\"imported_volume_{v}\") for v in range(1, no_of_frames+1)]\n",
    "\n",
    "new_class_3D_job = workspace.create_job(\n",
    "    \"class_3D\", \n",
    "    connections={\n",
    "        \"volume\": vol_outputs\n",
    "    },\n",
    "    params={\n",
    "        \"class3D_N_K\": no_of_frames,\n",
    "        \"class3D_init_mode\": \"input\"\n",
    "    }\n",
    ")"
   ]
  }
 ],
 "metadata": {
  "kernelspec": {
   "display_name": "cryosparc-tools",
   "language": "python",
   "name": "cryosparc-tools"
  },
  "language_info": {
   "codemirror_mode": {
    "name": "ipython",
    "version": 3
   },
   "file_extension": ".py",
   "mimetype": "text/x-python",
   "name": "python",
   "nbconvert_exporter": "python",
   "pygments_lexer": "ipython3",
   "version": "3.10.13"
  }
 },
 "nbformat": 4,
 "nbformat_minor": 5
}
