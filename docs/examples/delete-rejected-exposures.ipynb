{
 "cells": [
  {
   "cell_type": "markdown",
   "metadata": {},
   "source": [
    "# Delete Rejected Exposures\n",
    "\n",
    "How to remove original movies and motion-corrected micrographs that were culled in an Exposure Curation job.\n",
    "\n",
    "```{danger}\n",
    "Improper use of this code may result in data loss. Please ensure the relevant data is backed up.\n",
    "```\n",
    "\n",
    "First, initialize the `CryoSPARC` client."
   ]
  },
  {
   "cell_type": "code",
   "execution_count": 1,
   "metadata": {},
   "outputs": [
    {
     "name": "stdout",
     "output_type": "stream",
     "text": [
      "Connection succeeded to CryoSPARC command_core at http://cryoem0.sbi:40002\n",
      "Connection succeeded to CryoSPARC command_vis at http://cryoem0.sbi:40003\n",
      "Connection succeeded to CryoSPARC command_rtp at http://cryoem0.sbi:40005\n"
     ]
    }
   ],
   "source": [
    "from cryosparc.tools import CryoSPARC\n",
    "\n",
    "cs = CryoSPARC(host=\"cryoem0.sbi\", base_port=40000)\n",
    "assert cs.test_connection()"
   ]
  },
  {
   "cell_type": "markdown",
   "metadata": {},
   "source": [
    "Select a project and find its directory."
   ]
  },
  {
   "cell_type": "code",
   "execution_count": 2,
   "metadata": {},
   "outputs": [],
   "source": [
    "from pathlib import Path\n",
    "\n",
    "project = cs.find_project(\"P251\")\n",
    "project_dir = Path(project.dir())"
   ]
  },
  {
   "cell_type": "markdown",
   "metadata": {},
   "source": [
    "Select a \"Manually Curate Exposures\" job within the selected project and load its `exposures_rejected` output."
   ]
  },
  {
   "cell_type": "code",
   "execution_count": 3,
   "metadata": {},
   "outputs": [],
   "source": [
    "job = project.find_job(\"J93\")\n",
    "exposures_rejected = job.load_output(\"exposures_rejected\")"
   ]
  },
  {
   "cell_type": "markdown",
   "metadata": {},
   "source": [
    "```{note}\n",
    "To instead clean up rejected exposures from a CryoSPARC Live session, first export exposures from the Session view at Details > Actions > Export Exposures. This results in a \"Live Exposure Export\" job in the session workspace. Select that job and load the `rejected_exposures` output instead.\n",
    "```\n",
    "\n",
    "The following loop prints the absolute path of associated files that may be deleted for each exposure."
   ]
  },
  {
   "cell_type": "code",
   "execution_count": 4,
   "metadata": {},
   "outputs": [
    {
     "name": "stdout",
     "output_type": "stream",
     "text": [
      "J1/imported/009270517818331954156_14sep05c_00024sq_00003hl_00002es.frames.tif\n",
      "J2/motioncorrected/009270517818331954156_14sep05c_00024sq_00003hl_00002es.frames_patch_aligned_doseweighted.mrc\n",
      "J2/motioncorrected/009270517818331954156_14sep05c_00024sq_00003hl_00002es.frames_patch_aligned.mrc\n",
      "J2/motioncorrected/009270517818331954156_14sep05c_00024sq_00003hl_00002es.frames_background.mrc\n",
      "J2/thumbnails/009270517818331954156_14sep05c_00024sq_00003hl_00002es.frames_thumb_@1x.png\n",
      "J2/thumbnails/009270517818331954156_14sep05c_00024sq_00003hl_00002es.frames_thumb_@2x.png\n",
      "J1/imported/018045652812341181121_14sep05c_00024sq_00003hl_00005es.frames.tif\n",
      "J2/motioncorrected/018045652812341181121_14sep05c_00024sq_00003hl_00005es.frames_patch_aligned_doseweighted.mrc\n",
      "J2/motioncorrected/018045652812341181121_14sep05c_00024sq_00003hl_00005es.frames_patch_aligned.mrc\n",
      "J2/motioncorrected/018045652812341181121_14sep05c_00024sq_00003hl_00005es.frames_background.mrc\n",
      "J2/thumbnails/018045652812341181121_14sep05c_00024sq_00003hl_00005es.frames_thumb_@1x.png\n",
      "J2/thumbnails/018045652812341181121_14sep05c_00024sq_00003hl_00005es.frames_thumb_@2x.png\n",
      "J1/imported/013858401686983345121_14sep05c_c_00003gr_00014sq_00004hl_00004es.frames.tif\n",
      "J2/motioncorrected/013858401686983345121_14sep05c_c_00003gr_00014sq_00004hl_00004es.frames_patch_aligned_doseweighted.mrc\n",
      "J2/motioncorrected/013858401686983345121_14sep05c_c_00003gr_00014sq_00004hl_00004es.frames_patch_aligned.mrc\n",
      "J2/motioncorrected/013858401686983345121_14sep05c_c_00003gr_00014sq_00004hl_00004es.frames_background.mrc\n",
      "J2/thumbnails/013858401686983345121_14sep05c_c_00003gr_00014sq_00004hl_00004es.frames_thumb_@1x.png\n",
      "J2/thumbnails/013858401686983345121_14sep05c_c_00003gr_00014sq_00004hl_00004es.frames_thumb_@2x.png\n",
      "J1/imported/014372787500169110452_14sep05c_c_00003gr_00014sq_00005hl_00005es.frames.tif\n",
      "J2/motioncorrected/014372787500169110452_14sep05c_c_00003gr_00014sq_00005hl_00005es.frames_patch_aligned_doseweighted.mrc\n",
      "J2/motioncorrected/014372787500169110452_14sep05c_c_00003gr_00014sq_00005hl_00005es.frames_patch_aligned.mrc\n",
      "J2/motioncorrected/014372787500169110452_14sep05c_c_00003gr_00014sq_00005hl_00005es.frames_background.mrc\n",
      "J2/thumbnails/014372787500169110452_14sep05c_c_00003gr_00014sq_00005hl_00005es.frames_thumb_@1x.png\n",
      "J2/thumbnails/014372787500169110452_14sep05c_c_00003gr_00014sq_00005hl_00005es.frames_thumb_@2x.png\n",
      "J1/imported/013353543220334248239_14sep05c_c_00003gr_00014sq_00007hl_00005es.frames.tif\n",
      "J2/motioncorrected/013353543220334248239_14sep05c_c_00003gr_00014sq_00007hl_00005es.frames_patch_aligned_doseweighted.mrc\n",
      "J2/motioncorrected/013353543220334248239_14sep05c_c_00003gr_00014sq_00007hl_00005es.frames_patch_aligned.mrc\n",
      "J2/motioncorrected/013353543220334248239_14sep05c_c_00003gr_00014sq_00007hl_00005es.frames_background.mrc\n",
      "J2/thumbnails/013353543220334248239_14sep05c_c_00003gr_00014sq_00007hl_00005es.frames_thumb_@1x.png\n",
      "J2/thumbnails/013353543220334248239_14sep05c_c_00003gr_00014sq_00007hl_00005es.frames_thumb_@2x.png\n"
     ]
    }
   ],
   "source": [
    "for exposure in exposures_rejected.rows():\n",
    "    for group in (\n",
    "        \"movie_blob\",\n",
    "        \"micrograph_blob\",\n",
    "        \"micrograph_blob_non_dw\",\n",
    "        \"background_blob\",\n",
    "        \"micrograph_thumbnail_blob_1x\",\n",
    "        \"micrograph_thumbnail_blob_2x\",\n",
    "    ):\n",
    "        field = group + \"/path\"\n",
    "        if field in exposure:\n",
    "            rel_path = exposure[field]\n",
    "            abs_path = project_dir / rel_path\n",
    "            print(rel_path)\n",
    "            # abs_path.resolve().unlink()  # DANGER: UNCOMMENT TO PERFORM CLEANUP"
   ]
  },
  {
   "cell_type": "markdown",
   "metadata": {},
   "source": [
    "To delete the rejected files, either un-comment the very last line and re-run the loop, or manually `rm` each path from the command line. For the latter strategy, resolve symlinks to ensure the original data gets deleted:\n",
    "\n",
    "```sh\n",
    "cd /path/to/project\n",
    "rm -f $(readlink -f ${RELATIVE_PATH_TO_DELETE})  # for each file to delete...\n",
    "```"
   ]
  },
  {
   "cell_type": "code",
   "execution_count": null,
   "metadata": {},
   "outputs": [],
   "source": []
  }
 ],
 "metadata": {
  "kernelspec": {
   "display_name": "Python 3 (ipykernel)",
   "language": "python",
   "name": "python3"
  },
  "language_info": {
   "codemirror_mode": {
    "name": "ipython",
    "version": 3
   },
   "file_extension": ".py",
   "mimetype": "text/x-python",
   "name": "python",
   "nbconvert_exporter": "python",
   "pygments_lexer": "ipython3",
   "version": "3.8.17"
  },
  "orig_nbformat": 4
 },
 "nbformat": 4,
 "nbformat_minor": 2
}
